{
 "cells": [
  {
   "cell_type": "code",
   "execution_count": 17,
   "id": "afb8e066",
   "metadata": {},
   "outputs": [],
   "source": [
    "import numpy as np\n",
    "import pandas as pd\n",
    "import matplotlib.pyplot as plt\n",
    "%matplotlib inline\n",
    "import seaborn as sns"
   ]
  },
  {
   "cell_type": "code",
   "execution_count": 18,
   "id": "c655619f",
   "metadata": {},
   "outputs": [],
   "source": [
    "dataset=pd.read_excel(\"data.xlsx\")"
   ]
  },
  {
   "cell_type": "code",
   "execution_count": 19,
   "id": "973dd957",
   "metadata": {},
   "outputs": [
    {
     "data": {
      "text/html": [
       "<div>\n",
       "<style scoped>\n",
       "    .dataframe tbody tr th:only-of-type {\n",
       "        vertical-align: middle;\n",
       "    }\n",
       "\n",
       "    .dataframe tbody tr th {\n",
       "        vertical-align: top;\n",
       "    }\n",
       "\n",
       "    .dataframe thead th {\n",
       "        text-align: right;\n",
       "    }\n",
       "</style>\n",
       "<table border=\"1\" class=\"dataframe\">\n",
       "  <thead>\n",
       "    <tr style=\"text-align: right;\">\n",
       "      <th></th>\n",
       "      <th>X</th>\n",
       "      <th>Y</th>\n",
       "      <th>Y_HAT</th>\n",
       "      <th>ERROR</th>\n",
       "      <th>(ERROR)2</th>\n",
       "    </tr>\n",
       "  </thead>\n",
       "  <tbody>\n",
       "    <tr>\n",
       "      <th>0</th>\n",
       "      <td>91</td>\n",
       "      <td>45500</td>\n",
       "      <td>55.5</td>\n",
       "      <td>45444.5</td>\n",
       "      <td>2.065203e+09</td>\n",
       "    </tr>\n",
       "    <tr>\n",
       "      <th>1</th>\n",
       "      <td>59</td>\n",
       "      <td>29500</td>\n",
       "      <td>39.5</td>\n",
       "      <td>29460.5</td>\n",
       "      <td>8.679211e+08</td>\n",
       "    </tr>\n",
       "    <tr>\n",
       "      <th>2</th>\n",
       "      <td>45</td>\n",
       "      <td>22500</td>\n",
       "      <td>32.5</td>\n",
       "      <td>22467.5</td>\n",
       "      <td>5.047886e+08</td>\n",
       "    </tr>\n",
       "    <tr>\n",
       "      <th>3</th>\n",
       "      <td>60</td>\n",
       "      <td>30000</td>\n",
       "      <td>40.0</td>\n",
       "      <td>29960.0</td>\n",
       "      <td>8.976016e+08</td>\n",
       "    </tr>\n",
       "    <tr>\n",
       "      <th>4</th>\n",
       "      <td>70</td>\n",
       "      <td>35000</td>\n",
       "      <td>45.0</td>\n",
       "      <td>34955.0</td>\n",
       "      <td>1.221852e+09</td>\n",
       "    </tr>\n",
       "    <tr>\n",
       "      <th>...</th>\n",
       "      <td>...</td>\n",
       "      <td>...</td>\n",
       "      <td>...</td>\n",
       "      <td>...</td>\n",
       "      <td>...</td>\n",
       "    </tr>\n",
       "    <tr>\n",
       "      <th>95</th>\n",
       "      <td>64</td>\n",
       "      <td>32000</td>\n",
       "      <td>42.0</td>\n",
       "      <td>31958.0</td>\n",
       "      <td>1.021314e+09</td>\n",
       "    </tr>\n",
       "    <tr>\n",
       "      <th>96</th>\n",
       "      <td>3</td>\n",
       "      <td>1500</td>\n",
       "      <td>11.5</td>\n",
       "      <td>1488.5</td>\n",
       "      <td>2.215632e+06</td>\n",
       "    </tr>\n",
       "    <tr>\n",
       "      <th>97</th>\n",
       "      <td>18</td>\n",
       "      <td>9000</td>\n",
       "      <td>19.0</td>\n",
       "      <td>8981.0</td>\n",
       "      <td>8.065836e+07</td>\n",
       "    </tr>\n",
       "    <tr>\n",
       "      <th>98</th>\n",
       "      <td>80</td>\n",
       "      <td>40000</td>\n",
       "      <td>50.0</td>\n",
       "      <td>39950.0</td>\n",
       "      <td>1.596002e+09</td>\n",
       "    </tr>\n",
       "    <tr>\n",
       "      <th>99</th>\n",
       "      <td>2</td>\n",
       "      <td>1000</td>\n",
       "      <td>11.0</td>\n",
       "      <td>989.0</td>\n",
       "      <td>9.781210e+05</td>\n",
       "    </tr>\n",
       "  </tbody>\n",
       "</table>\n",
       "<p>100 rows × 5 columns</p>\n",
       "</div>"
      ],
      "text/plain": [
       "     X      Y  Y_HAT    ERROR      (ERROR)2\n",
       "0   91  45500   55.5  45444.5  2.065203e+09\n",
       "1   59  29500   39.5  29460.5  8.679211e+08\n",
       "2   45  22500   32.5  22467.5  5.047886e+08\n",
       "3   60  30000   40.0  29960.0  8.976016e+08\n",
       "4   70  35000   45.0  34955.0  1.221852e+09\n",
       "..  ..    ...    ...      ...           ...\n",
       "95  64  32000   42.0  31958.0  1.021314e+09\n",
       "96   3   1500   11.5   1488.5  2.215632e+06\n",
       "97  18   9000   19.0   8981.0  8.065836e+07\n",
       "98  80  40000   50.0  39950.0  1.596002e+09\n",
       "99   2   1000   11.0    989.0  9.781210e+05\n",
       "\n",
       "[100 rows x 5 columns]"
      ]
     },
     "execution_count": 19,
     "metadata": {},
     "output_type": "execute_result"
    }
   ],
   "source": [
    "dataset"
   ]
  },
  {
   "cell_type": "code",
   "execution_count": 20,
   "id": "fc85206e",
   "metadata": {},
   "outputs": [
    {
     "data": {
      "text/plain": [
       "<AxesSubplot:xlabel='X', ylabel='Y'>"
      ]
     },
     "execution_count": 20,
     "metadata": {},
     "output_type": "execute_result"
    },
    {
     "data": {
      "image/png": "[encoded data removed]",
      "text/plain": [
       "<Figure size 432x288 with 1 Axes>"
      ]
     },
     "metadata": {
      "needs_background": "light"
     },
     "output_type": "display_data"
    }
   ],
   "source": [
    "sns.scatterplot(x=dataset.X, y=dataset.Y)"
   ]
  },
  {
   "cell_type": "code",
   "execution_count": 21,
   "id": "20a4ee5c",
   "metadata": {},
   "outputs": [
    {
     "name": "stdout",
     "output_type": "stream",
     "text": [
      "0     2.065203e+07\n",
      "1     8.679211e+06\n",
      "2     5.047886e+06\n",
      "3     8.976016e+06\n",
      "4     1.221852e+07\n",
      "          ...     \n",
      "95    1.021314e+07\n",
      "96    2.215632e+04\n",
      "97    8.065836e+05\n",
      "98    1.596002e+07\n",
      "99    9.781210e+03\n",
      "Name: ERROR, Length: 100, dtype: float64\n"
     ]
    }
   ],
   "source": [
    "N=100 #the number of office sizes\n",
    "E=dataset.ERROR\n",
    "L=(E*E)/N #loss function//Mean squared error\n",
    "print(L)"
   ]
  },
  {
   "cell_type": "code",
   "execution_count": 22,
   "id": "49aaf5b1",
   "metadata": {},
   "outputs": [
    {
     "name": "stdout",
     "output_type": "stream",
     "text": [
      "500.0\n"
     ]
    }
   ],
   "source": [
    "gradient=(45500-29500)/(91-59) #gradient=(change in y/change in x)\n",
    "print(gradient)"
   ]
  },
  {
   "cell_type": "code",
   "execution_count": 15,
   "id": "45701476",
   "metadata": {},
   "outputs": [
    {
     "name": "stdout",
     "output_type": "stream",
     "text": [
      "-8482.604800000001\n"
     ]
    }
   ],
   "source": [
    "gradient_descent=(8.065836e+05- 5.047886e+06)/gradient #gradient_descent=change in L(loss function or Mean squared error)/change in W(weights which also equates to the slope)\n",
    "print(gradient_descent)"
   ]
  },
  {
   "cell_type": "code",
   "execution_count": 27,
   "id": "11be9910",
   "metadata": {},
   "outputs": [
    {
     "name": "stdout",
     "output_type": "stream",
     "text": [
      "499.9999999999996\n",
      "2.1827872842550278e-11\n",
      "0.999999999999999\n",
      "0.0\n",
      "2.2578668845121807e-06\n"
     ]
    }
   ],
   "source": [
    "from scipy import stats \n",
    "slope, intercept, r_value, p_value, std_error = stats.linregress(dataset.X, dataset.Y)\n",
    "print(slope)\n",
    "print(intercept)\n",
    "print(r_value)#variance\n",
    "print(p_value)\n",
    "print(std_error)#how far it is from the mean"
   ]
  },
  {
   "cell_type": "code",
   "execution_count": 67,
   "id": "fb28a3d7",
   "metadata": {},
   "outputs": [],
   "source": [
    "def predict(x):\n",
    "    return slope*x+intercept #m x + c\n"
   ]
  },
  {
   "cell_type": "code",
   "execution_count": 68,
   "id": "869790ca",
   "metadata": {},
   "outputs": [
    {
     "ename": "NameError",
     "evalue": "name 'x' is not defined",
     "output_type": "error",
     "traceback": [
      "\u001b[1;31m---------------------------------------------------------------------------\u001b[0m",
      "\u001b[1;31mNameError\u001b[0m                                 Traceback (most recent call last)",
      "\u001b[1;32m~\\AppData\\Local\\Temp/ipykernel_8632/457125659.py\u001b[0m in \u001b[0;36m<module>\u001b[1;34m\u001b[0m\n\u001b[1;32m----> 1\u001b[1;33m \u001b[0mfitline\u001b[0m \u001b[1;33m=\u001b[0m \u001b[0mpredict\u001b[0m\u001b[1;33m(\u001b[0m\u001b[0mx\u001b[0m\u001b[1;33m)\u001b[0m\u001b[1;33m\u001b[0m\u001b[1;33m\u001b[0m\u001b[0m\n\u001b[0m\u001b[0;32m      2\u001b[0m \u001b[0mplt\u001b[0m\u001b[1;33m.\u001b[0m\u001b[0mscatter\u001b[0m\u001b[1;33m(\u001b[0m\u001b[0mdataset\u001b[0m\u001b[1;33m.\u001b[0m\u001b[0mX\u001b[0m\u001b[1;33m,\u001b[0m \u001b[0mdataset\u001b[0m\u001b[1;33m.\u001b[0m\u001b[0mY\u001b[0m\u001b[1;33m)\u001b[0m\u001b[1;33m\u001b[0m\u001b[1;33m\u001b[0m\u001b[0m\n\u001b[0;32m      3\u001b[0m \u001b[0mplt\u001b[0m\u001b[1;33m.\u001b[0m\u001b[0mplot\u001b[0m\u001b[1;33m(\u001b[0m\u001b[0mdataset\u001b[0m\u001b[1;33m.\u001b[0m\u001b[0mX\u001b[0m\u001b[1;33m,\u001b[0m \u001b[0mfitline\u001b[0m\u001b[1;33m,\u001b[0m \u001b[0mc\u001b[0m \u001b[1;33m=\u001b[0m \u001b[1;34m\"r\"\u001b[0m\u001b[1;33m)\u001b[0m\u001b[1;33m\u001b[0m\u001b[1;33m\u001b[0m\u001b[0m\n",
      "\u001b[1;31mNameError\u001b[0m: name 'x' is not defined"
     ]
    }
   ],
   "source": [
    "fitline = predict(x)\n",
    "plt.scatter(dataset.X, dataset.Y)\n",
    "plt.plot(dataset.X, fitline, c = \"r\")"
   ]
  },
  {
   "cell_type": "code",
   "execution_count": 58,
   "id": "55646604",
   "metadata": {},
   "outputs": [],
   "source": [
    "from sklearn.model_selection import train_test_split\n",
    "X_train, X_test, Y_train, Y_test=train_test_split(dataset.X,dataset.Y,test_size=0.25,random_state=6)"
   ]
  },
  {
   "cell_type": "code",
   "execution_count": 69,
   "id": "f1c1eb42",
   "metadata": {},
   "outputs": [
    {
     "ename": "ModuleNotFoundError",
     "evalue": "No module named 'sklearn.linear_model.LogisticRegression'",
     "output_type": "error",
     "traceback": [
      "\u001b[1;31m---------------------------------------------------------------------------\u001b[0m",
      "\u001b[1;31mModuleNotFoundError\u001b[0m                       Traceback (most recent call last)",
      "\u001b[1;32m~\\AppData\\Local\\Temp/ipykernel_8632/4037337900.py\u001b[0m in \u001b[0;36m<module>\u001b[1;34m\u001b[0m\n\u001b[1;32m----> 1\u001b[1;33m \u001b[1;32mfrom\u001b[0m \u001b[0msklearn\u001b[0m\u001b[1;33m.\u001b[0m\u001b[0mlinear_model\u001b[0m\u001b[1;33m.\u001b[0m\u001b[0mLogisticRegression\u001b[0m \u001b[1;32mimport\u001b[0m \u001b[0mLinearRegression\u001b[0m\u001b[1;33m\u001b[0m\u001b[1;33m\u001b[0m\u001b[0m\n\u001b[0m\u001b[0;32m      2\u001b[0m \u001b[0mModel\u001b[0m\u001b[1;33m=\u001b[0m\u001b[0mLinearRegression\u001b[0m\u001b[1;33m(\u001b[0m\u001b[1;33m)\u001b[0m\u001b[1;33m\u001b[0m\u001b[1;33m\u001b[0m\u001b[0m\n\u001b[0;32m      3\u001b[0m \u001b[0mModel\u001b[0m\u001b[1;33m.\u001b[0m\u001b[0mfit\u001b[0m\u001b[1;33m(\u001b[0m\u001b[0mX_train\u001b[0m\u001b[1;33m,\u001b[0m \u001b[0mY_train\u001b[0m\u001b[1;33m)\u001b[0m\u001b[1;33m\u001b[0m\u001b[1;33m\u001b[0m\u001b[0m\n",
      "\u001b[1;31mModuleNotFoundError\u001b[0m: No module named 'sklearn.linear_model.LogisticRegression'"
     ]
    }
   ],
   "source": [
    "from sklearn.linear_model.LinearRegression\n",
    "Model=LinearRegression()\n",
    "Model.fit(X_train, Y_train)"
   ]
  },
  {
   "cell_type": "code",
   "execution_count": null,
   "id": "de754b93",
   "metadata": {},
   "outputs": [],
   "source": [
    "prediction=Model.predict(X_test)"
   ]
  },
  {
   "cell_type": "code",
   "execution_count": null,
   "id": "43b6ad80",
   "metadata": {},
   "outputs": [],
   "source": [
    "from sklearn.metrics import accuracy_score\n",
    "print(accuracy_score(prediction, Y_test))"
   ]
  }
 ],
 "metadata": {
  "kernelspec": {
   "display_name": "Python 3 (ipykernel)",
   "language": "python",
   "name": "python3"
  },
  "language_info": {
   "codemirror_mode": {
    "name": "ipython",
    "version": 3
   },
   "file_extension": ".py",
   "mimetype": "text/x-python",
   "name": "python",
   "nbconvert_exporter": "python",
   "pygments_lexer": "ipython3",
   "version": "3.9.7"
  }
 },
 "nbformat": 4,
 "nbformat_minor": 5
}
